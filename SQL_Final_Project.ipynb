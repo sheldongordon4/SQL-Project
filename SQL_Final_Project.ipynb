{
 "cells": [
  {
   "cell_type": "markdown",
   "metadata": {},
   "source": [
    "<center>\n",
    "    <img src=\"https://cf-courses-data.s3.us.cloud-object-storage.appdomain.cloud/IBMDeveloperSkillsNetwork-DB0201EN-SkillsNetwork/labs/FinalModule_Coursera_V5/images/SN_web_lightmode.png\" width=\"300\" alt=\"cognitiveclass.ai logo\">\n",
    "</center>\n",
    "\n",
    "<h1 align=center><font size = 5>Assignment: Notebook for Graded Assessment</font></h1>\n"
   ]
  },
  {
   "cell_type": "markdown",
   "metadata": {},
   "source": [
    "# Introduction\n",
    "\n",
    "Using this Python notebook you will:\n",
    "\n",
    "1.  Understand three Chicago datasets\n",
    "2.  Load the three datasets into three tables in a SQLIte database\n",
    "3.  Execute SQL queries to answer assignment questions\n"
   ]
  },
  {
   "cell_type": "markdown",
   "metadata": {},
   "source": [
    "## Understand the datasets\n",
    "\n",
    "To complete the assignment problems in this notebook you will be using three datasets that are available on the city of Chicago's Data Portal:\n",
    "\n",
    "1.  <a href=\"https://data.cityofchicago.org/Health-Human-Services/Census-Data-Selected-socioeconomic-indicators-in-C/kn9c-c2s2?utm_medium=Exinfluencer&utm_source=Exinfluencer&utm_content=000026UJ&utm_term=10006555&utm_id=NA-SkillsNetwork-Channel-SkillsNetworkCoursesIBMDeveloperSkillsNetworkDB0201ENSkillsNetwork20127838-2021-01-01\">Socioeconomic Indicators in Chicago</a>\n",
    "2.  <a href=\"https://data.cityofchicago.org/Education/Chicago-Public-Schools-Progress-Report-Cards-2011-/9xs2-f89t?utm_medium=Exinfluencer&utm_source=Exinfluencer&utm_content=000026UJ&utm_term=10006555&utm_id=NA-SkillsNetwork-Channel-SkillsNetworkCoursesIBMDeveloperSkillsNetworkDB0201ENSkillsNetwork20127838-2021-01-01\">Chicago Public Schools</a>\n",
    "3.  <a href=\"https://data.cityofchicago.org/Public-Safety/Crimes-2001-to-present/ijzp-q8t2?utm_medium=Exinfluencer&utm_source=Exinfluencer&utm_content=000026UJ&utm_term=10006555&utm_id=NA-SkillsNetwork-Channel-SkillsNetworkCoursesIBMDeveloperSkillsNetworkDB0201ENSkillsNetwork20127838-2021-01-01\">Chicago Crime Data</a>\n",
    "\n",
    "### 1. Socioeconomic Indicators in Chicago\n",
    "\n",
    "This dataset contains a selection of six socioeconomic indicators of public health significance and a “hardship index,” for each Chicago community area, for the years 2008 – 2012.\n",
    "\n",
    "A detailed description of this dataset and the original dataset can be obtained from the Chicago Data Portal at:\n",
    "\n",
    "[https://data.cityofchicago.org/Health-Human-Services/Census-Data-Selected-socioeconomic-indicators-in-C/kn9c-c2s2](https://data.cityofchicago.org/Health-Human-Services/Census-Data-Selected-socioeconomic-indicators-in-C/kn9c-c2s2?utm_medium=Exinfluencer&utm_source=Exinfluencer&utm_content=000026UJ&utm_term=10006555&utm_id=NA-SkillsNetwork-Channel-SkillsNetworkCoursesIBMDeveloperSkillsNetworkDB0201ENSkillsNetwork20127838-2021-01-01&cm_mmc=Email_Newsletter-\\_-Developer_Ed%2BTech-\\_-WW_WW-\\_-SkillsNetwork-Courses-IBMDeveloperSkillsNetwork-DB0201EN-SkillsNetwork-20127838&cm_mmca1=000026UJ&cm_mmca2=10006555&cm_mmca3=M12345678&cvosrc=email.Newsletter.M12345678&cvo_campaign=000026UJ)\n",
    "\n",
    "### 2. Chicago Public Schools\n",
    "\n",
    "This dataset shows all school level performance data used to create CPS School Report Cards for the 2011-2012 school year. This dataset is provided by the city of Chicago's Data Portal.\n",
    "\n",
    "A detailed description of this dataset and the original dataset can be obtained from the Chicago Data Portal at:\n",
    "\n",
    "[https://data.cityofchicago.org/Education/Chicago-Public-Schools-Progress-Report-Cards-2011-/9xs2-f89t](https://data.cityofchicago.org/Education/Chicago-Public-Schools-Progress-Report-Cards-2011-/9xs2-f89t?utm_medium=Exinfluencer&utm_source=Exinfluencer&utm_content=000026UJ&utm_term=10006555&utm_id=NA-SkillsNetwork-Channel-SkillsNetworkCoursesIBMDeveloperSkillsNetworkDB0201ENSkillsNetwork20127838-2021-01-01&cm_mmc=Email_Newsletter-\\_-Developer_Ed%2BTech-\\_-WW_WW-\\_-SkillsNetwork-Courses-IBMDeveloperSkillsNetwork-DB0201EN-SkillsNetwork-20127838&cm_mmca1=000026UJ&cm_mmca2=10006555&cm_mmca3=M12345678&cvosrc=email.Newsletter.M12345678&cvo_campaign=000026UJ)\n",
    "\n",
    "### 3. Chicago Crime Data\n",
    "\n",
    "This dataset reflects reported incidents of crime (with the exception of murders where data exists for each victim) that occurred in the City of Chicago from 2001 to present, minus the most recent seven days.\n",
    "\n",
    "A detailed description of this dataset and the original dataset can be obtained from the Chicago Data Portal at:\n",
    "\n",
    "[https://data.cityofchicago.org/Public-Safety/Crimes-2001-to-present/ijzp-q8t2](https://data.cityofchicago.org/Public-Safety/Crimes-2001-to-present/ijzp-q8t2?utm_medium=Exinfluencer&utm_source=Exinfluencer&utm_content=000026UJ&utm_term=10006555&utm_id=NA-SkillsNetwork-Channel-SkillsNetworkCoursesIBMDeveloperSkillsNetworkDB0201ENSkillsNetwork20127838-2021-01-01&cm_mmc=Email_Newsletter-\\_-Developer_Ed%2BTech-\\_-WW_WW-\\_-SkillsNetwork-Courses-IBMDeveloperSkillsNetwork-DB0201EN-SkillsNetwork-20127838&cm_mmca1=000026UJ&cm_mmca2=10006555&cm_mmca3=M12345678&cvosrc=email.Newsletter.M12345678&cvo_campaign=000026UJ)\n"
   ]
  },
  {
   "cell_type": "markdown",
   "metadata": {},
   "source": [
    "### Download the datasets\n",
    "\n",
    "This assignment requires you to have these three tables populated with a subset of the whole datasets.\n",
    "\n",
    "In many cases the dataset to be analyzed is available as a .CSV (comma separated values) file, perhaps on the internet. \n",
    "\n",
    "Use the links below to read the data files using the Pandas library. \n",
    "\n",
    "* Chicago Census Data\n",
    "\n",
    "https://cf-courses-data.s3.us.cloud-object-storage.appdomain.cloud/IBMDeveloperSkillsNetwork-DB0201EN-SkillsNetwork/labs/FinalModule_Coursera_V5/data/ChicagoCensusData.csv?utm_medium=Exinfluencer&utm_source=Exinfluencer&utm_content=000026UJ&utm_term=10006555&utm_id=NA-SkillsNetwork-Channel-SkillsNetworkCoursesIBMDeveloperSkillsNetworkDB0201ENSkillsNetwork20127838-2021-01-01\n",
    "\n",
    "* Chicago Public Schools\n",
    "\n",
    "https://cf-courses-data.s3.us.cloud-object-storage.appdomain.cloud/IBMDeveloperSkillsNetwork-DB0201EN-SkillsNetwork/labs/FinalModule_Coursera_V5/data/ChicagoPublicSchools.csv?utm_medium=Exinfluencer&utm_source=Exinfluencer&utm_content=000026UJ&utm_term=10006555&utm_id=NA-SkillsNetwork-Channel-SkillsNetworkCoursesIBMDeveloperSkillsNetworkDB0201ENSkillsNetwork20127838-2021-01-01\n",
    "\n",
    "* Chicago Crime Data\n",
    "\n",
    "https://cf-courses-data.s3.us.cloud-object-storage.appdomain.cloud/IBMDeveloperSkillsNetwork-DB0201EN-SkillsNetwork/labs/FinalModule_Coursera_V5/data/ChicagoCrimeData.csv?utm_medium=Exinfluencer&utm_source=Exinfluencer&utm_content=000026UJ&utm_term=10006555&utm_id=NA-SkillsNetwork-Channel-SkillsNetworkCoursesIBMDeveloperSkillsNetworkDB0201ENSkillsNetwork20127838-2021-01-01\n",
    "\n",
    "**NOTE:** Ensure you use the datasets available on the links above instead of directly from the Chicago Data Portal. The versions linked here are subsets of the original datasets and have some of the column names modified to be more database friendly which will make it easier to complete this assignment.\n"
   ]
  },
  {
   "cell_type": "markdown",
   "metadata": {},
   "source": [
    "### Store the datasets in database tables\n",
    "\n",
    "To analyze the data using SQL, it first needs to be loaded into SQLite DB.\n",
    "We will create three tables in as under:\n",
    "\n",
    "1.  **CENSUS_DATA**\n",
    "2.  **CHICAGO_PUBLIC_SCHOOLS**\n",
    "3.  **CHICAGO_CRIME_DATA**\n"
   ]
  },
  {
   "cell_type": "markdown",
   "metadata": {},
   "source": [
    "Load the `pandas` and `sqlite3` libraries and establish a connection to `FinalDB.db`\n"
   ]
  },
  {
   "cell_type": "code",
   "execution_count": 1,
   "metadata": {
    "tags": []
   },
   "outputs": [],
   "source": [
    "import csv, sqlite3\n",
    "\n",
    "con = sqlite3.connect(\"FINALDB.db\")\n",
    "cur = con.cursor()"
   ]
  },
  {
   "cell_type": "code",
   "execution_count": 3,
   "metadata": {
    "tags": []
   },
   "outputs": [
    {
     "name": "stdout",
     "output_type": "stream",
     "text": [
      "Channels:\n",
      " - defaults\n",
      "Platform: osx-64\n",
      "Collecting package metadata (repodata.json): ...working... done\n",
      "Solving environment: ...working... done\n",
      "\n",
      "# All requested packages already installed.\n",
      "\n",
      "\n",
      "Note: you may need to restart the kernel to use updated packages.\n"
     ]
    }
   ],
   "source": [
    "conda install -q pandas==2.2.2"
   ]
  },
  {
   "cell_type": "code",
   "execution_count": 4,
   "metadata": {},
   "outputs": [
    {
     "name": "stdout",
     "output_type": "stream",
     "text": [
      "Requirement already satisfied: ipython-sql in /opt/anaconda3/lib/python3.12/site-packages (0.5.0)\n",
      "Requirement already satisfied: prettytable in /opt/anaconda3/lib/python3.12/site-packages (from ipython-sql) (3.11.0)\n",
      "Requirement already satisfied: ipython in /opt/anaconda3/lib/python3.12/site-packages (from ipython-sql) (8.25.0)\n",
      "Requirement already satisfied: sqlalchemy>=2.0 in /opt/anaconda3/lib/python3.12/site-packages (from ipython-sql) (2.0.30)\n",
      "Requirement already satisfied: sqlparse in /opt/anaconda3/lib/python3.12/site-packages (from ipython-sql) (0.5.1)\n",
      "Requirement already satisfied: six in /opt/anaconda3/lib/python3.12/site-packages (from ipython-sql) (1.16.0)\n",
      "Requirement already satisfied: ipython-genutils in /opt/anaconda3/lib/python3.12/site-packages (from ipython-sql) (0.2.0)\n",
      "Requirement already satisfied: typing-extensions>=4.6.0 in /opt/anaconda3/lib/python3.12/site-packages (from sqlalchemy>=2.0->ipython-sql) (4.11.0)\n",
      "Requirement already satisfied: greenlet!=0.4.17 in /opt/anaconda3/lib/python3.12/site-packages (from sqlalchemy>=2.0->ipython-sql) (3.0.1)\n",
      "Requirement already satisfied: decorator in /opt/anaconda3/lib/python3.12/site-packages (from ipython->ipython-sql) (5.1.1)\n",
      "Requirement already satisfied: jedi>=0.16 in /opt/anaconda3/lib/python3.12/site-packages (from ipython->ipython-sql) (0.18.1)\n",
      "Requirement already satisfied: matplotlib-inline in /opt/anaconda3/lib/python3.12/site-packages (from ipython->ipython-sql) (0.1.6)\n",
      "Requirement already satisfied: prompt-toolkit<3.1.0,>=3.0.41 in /opt/anaconda3/lib/python3.12/site-packages (from ipython->ipython-sql) (3.0.43)\n",
      "Requirement already satisfied: pygments>=2.4.0 in /opt/anaconda3/lib/python3.12/site-packages (from ipython->ipython-sql) (2.15.1)\n",
      "Requirement already satisfied: stack-data in /opt/anaconda3/lib/python3.12/site-packages (from ipython->ipython-sql) (0.2.0)\n",
      "Requirement already satisfied: traitlets>=5.13.0 in /opt/anaconda3/lib/python3.12/site-packages (from ipython->ipython-sql) (5.14.3)\n",
      "Requirement already satisfied: pexpect>4.3 in /opt/anaconda3/lib/python3.12/site-packages (from ipython->ipython-sql) (4.8.0)\n",
      "Requirement already satisfied: wcwidth in /opt/anaconda3/lib/python3.12/site-packages (from prettytable->ipython-sql) (0.2.5)\n",
      "Requirement already satisfied: parso<0.9.0,>=0.8.0 in /opt/anaconda3/lib/python3.12/site-packages (from jedi>=0.16->ipython->ipython-sql) (0.8.3)\n",
      "Requirement already satisfied: ptyprocess>=0.5 in /opt/anaconda3/lib/python3.12/site-packages (from pexpect>4.3->ipython->ipython-sql) (0.7.0)\n",
      "Requirement already satisfied: executing in /opt/anaconda3/lib/python3.12/site-packages (from stack-data->ipython->ipython-sql) (0.8.3)\n",
      "Requirement already satisfied: asttokens in /opt/anaconda3/lib/python3.12/site-packages (from stack-data->ipython->ipython-sql) (2.0.5)\n",
      "Requirement already satisfied: pure-eval in /opt/anaconda3/lib/python3.12/site-packages (from stack-data->ipython->ipython-sql) (0.2.2)\n",
      "Note: you may need to restart the kernel to use updated packages.\n"
     ]
    }
   ],
   "source": [
    "pip install ipython-sql"
   ]
  },
  {
   "cell_type": "code",
   "execution_count": 11,
   "metadata": {
    "tags": []
   },
   "outputs": [
    {
     "name": "stdout",
     "output_type": "stream",
     "text": [
      "The sql extension is already loaded. To reload it, use:\n",
      "  %reload_ext sql\n"
     ]
    }
   ],
   "source": [
    "%load_ext sql"
   ]
  },
  {
   "cell_type": "markdown",
   "metadata": {},
   "source": [
    "Load the SQL magic module\n"
   ]
  },
  {
   "cell_type": "code",
   "execution_count": 13,
   "metadata": {
    "tags": []
   },
   "outputs": [],
   "source": [
    "%sql sqlite:///FINALDB.db"
   ]
  },
  {
   "cell_type": "markdown",
   "metadata": {},
   "source": [
    "Use `Pandas` to load the data available in the links above to dataframes. Use these dataframes to load data on to the database `FinalDB.db` as required tables.\n"
   ]
  },
  {
   "cell_type": "code",
   "execution_count": 15,
   "metadata": {
    "tags": []
   },
   "outputs": [
    {
     "data": {
      "text/plain": [
       "566"
      ]
     },
     "execution_count": 15,
     "metadata": {},
     "output_type": "execute_result"
    }
   ],
   "source": [
    "import pandas\n",
    "\n",
    "df = pandas.read_csv(\"https://cf-courses-data.s3.us.cloud-object-storage.appdomain.cloud/IBMDeveloperSkillsNetwork-DB0201EN-SkillsNetwork/labs/FinalModule_Coursera_V5/data/ChicagoCensusData.csv\")\n",
    "df.to_sql(\"CENSUS_DATA\", con, if_exists='replace', index=False,method=\"multi\")\n",
    "\n",
    "df = pandas.read_csv(\"https://cf-courses-data.s3.us.cloud-object-storage.appdomain.cloud/IBMDeveloperSkillsNetwork-DB0201EN-SkillsNetwork/labs/FinalModule_Coursera_V5/data/ChicagoCrimeData.csv\")\n",
    "df.to_sql(\"CHICAGO_CRIME_DATA\", con, if_exists='replace', index=False, method=\"multi\")\n",
    "\n",
    "df = pandas.read_csv(\"https://cf-courses-data.s3.us.cloud-object-storage.appdomain.cloud/IBMDeveloperSkillsNetwork-DB0201EN-SkillsNetwork/labs/FinalModule_Coursera_V5/data/ChicagoPublicSchools.csv\")\n",
    "df.to_sql(\"CHICAGO_PUBLIC_SCHOOLS_DATA\", con, if_exists='replace', index=False, method=\"multi\")"
   ]
  },
  {
   "cell_type": "markdown",
   "metadata": {},
   "source": [
    "Establish a connection between SQL magic module and the database `FinalDB.db`\n"
   ]
  },
  {
   "cell_type": "code",
   "execution_count": 16,
   "metadata": {
    "tags": []
   },
   "outputs": [],
   "source": [
    "%sql sqlite:///FINALDB.db"
   ]
  },
  {
   "cell_type": "code",
   "execution_count": 17,
   "metadata": {
    "tags": []
   },
   "outputs": [
    {
     "name": "stdout",
     "output_type": "stream",
     "text": [
      " * sqlite:///FINALDB.db\n",
      "Done.\n"
     ]
    },
    {
     "data": {
      "text/html": [
       "<table>\n",
       "    <thead>\n",
       "        <tr>\n",
       "            <th>name</th>\n",
       "        </tr>\n",
       "    </thead>\n",
       "    <tbody>\n",
       "        <tr>\n",
       "            <td>CENSUS_DATA</td>\n",
       "        </tr>\n",
       "        <tr>\n",
       "            <td>CHICAGO_CRIME_DATA</td>\n",
       "        </tr>\n",
       "        <tr>\n",
       "            <td>CHICAGO_PUBLIC_SCHOOLS_DATA</td>\n",
       "        </tr>\n",
       "    </tbody>\n",
       "</table>"
      ],
      "text/plain": [
       "[('CENSUS_DATA',), ('CHICAGO_CRIME_DATA',), ('CHICAGO_PUBLIC_SCHOOLS_DATA',)]"
      ]
     },
     "execution_count": 17,
     "metadata": {},
     "output_type": "execute_result"
    }
   ],
   "source": [
    "%sql SELECT name FROM sqlite_master WHERE type='table'"
   ]
  },
  {
   "cell_type": "code",
   "execution_count": 18,
   "metadata": {
    "tags": []
   },
   "outputs": [
    {
     "name": "stdout",
     "output_type": "stream",
     "text": [
      " * sqlite:///FINALDB.db\n",
      "Done.\n"
     ]
    },
    {
     "data": {
      "text/html": [
       "<table>\n",
       "    <thead>\n",
       "        <tr>\n",
       "            <th>name</th>\n",
       "            <th>type</th>\n",
       "            <th>length(type)</th>\n",
       "        </tr>\n",
       "    </thead>\n",
       "    <tbody>\n",
       "        <tr>\n",
       "            <td>School_ID</td>\n",
       "            <td>INTEGER</td>\n",
       "            <td>7</td>\n",
       "        </tr>\n",
       "        <tr>\n",
       "            <td>NAME_OF_SCHOOL</td>\n",
       "            <td>TEXT</td>\n",
       "            <td>4</td>\n",
       "        </tr>\n",
       "        <tr>\n",
       "            <td>Elementary, Middle, or High School</td>\n",
       "            <td>TEXT</td>\n",
       "            <td>4</td>\n",
       "        </tr>\n",
       "        <tr>\n",
       "            <td>Street_Address</td>\n",
       "            <td>TEXT</td>\n",
       "            <td>4</td>\n",
       "        </tr>\n",
       "        <tr>\n",
       "            <td>City</td>\n",
       "            <td>TEXT</td>\n",
       "            <td>4</td>\n",
       "        </tr>\n",
       "        <tr>\n",
       "            <td>State</td>\n",
       "            <td>TEXT</td>\n",
       "            <td>4</td>\n",
       "        </tr>\n",
       "        <tr>\n",
       "            <td>ZIP_Code</td>\n",
       "            <td>INTEGER</td>\n",
       "            <td>7</td>\n",
       "        </tr>\n",
       "        <tr>\n",
       "            <td>Phone_Number</td>\n",
       "            <td>TEXT</td>\n",
       "            <td>4</td>\n",
       "        </tr>\n",
       "        <tr>\n",
       "            <td>Link</td>\n",
       "            <td>TEXT</td>\n",
       "            <td>4</td>\n",
       "        </tr>\n",
       "        <tr>\n",
       "            <td>Network_Manager</td>\n",
       "            <td>TEXT</td>\n",
       "            <td>4</td>\n",
       "        </tr>\n",
       "        <tr>\n",
       "            <td>Collaborative_Name</td>\n",
       "            <td>TEXT</td>\n",
       "            <td>4</td>\n",
       "        </tr>\n",
       "        <tr>\n",
       "            <td>Adequate_Yearly_Progress_Made_</td>\n",
       "            <td>TEXT</td>\n",
       "            <td>4</td>\n",
       "        </tr>\n",
       "        <tr>\n",
       "            <td>Track_Schedule</td>\n",
       "            <td>TEXT</td>\n",
       "            <td>4</td>\n",
       "        </tr>\n",
       "        <tr>\n",
       "            <td>CPS_Performance_Policy_Status</td>\n",
       "            <td>TEXT</td>\n",
       "            <td>4</td>\n",
       "        </tr>\n",
       "        <tr>\n",
       "            <td>CPS_Performance_Policy_Level</td>\n",
       "            <td>TEXT</td>\n",
       "            <td>4</td>\n",
       "        </tr>\n",
       "        <tr>\n",
       "            <td>HEALTHY_SCHOOL_CERTIFIED</td>\n",
       "            <td>TEXT</td>\n",
       "            <td>4</td>\n",
       "        </tr>\n",
       "        <tr>\n",
       "            <td>Safety_Icon</td>\n",
       "            <td>TEXT</td>\n",
       "            <td>4</td>\n",
       "        </tr>\n",
       "        <tr>\n",
       "            <td>SAFETY_SCORE</td>\n",
       "            <td>REAL</td>\n",
       "            <td>4</td>\n",
       "        </tr>\n",
       "        <tr>\n",
       "            <td>Family_Involvement_Icon</td>\n",
       "            <td>TEXT</td>\n",
       "            <td>4</td>\n",
       "        </tr>\n",
       "        <tr>\n",
       "            <td>Family_Involvement_Score</td>\n",
       "            <td>TEXT</td>\n",
       "            <td>4</td>\n",
       "        </tr>\n",
       "        <tr>\n",
       "            <td>Environment_Icon</td>\n",
       "            <td>TEXT</td>\n",
       "            <td>4</td>\n",
       "        </tr>\n",
       "        <tr>\n",
       "            <td>Environment_Score</td>\n",
       "            <td>REAL</td>\n",
       "            <td>4</td>\n",
       "        </tr>\n",
       "        <tr>\n",
       "            <td>Instruction_Icon</td>\n",
       "            <td>TEXT</td>\n",
       "            <td>4</td>\n",
       "        </tr>\n",
       "        <tr>\n",
       "            <td>Instruction_Score</td>\n",
       "            <td>REAL</td>\n",
       "            <td>4</td>\n",
       "        </tr>\n",
       "        <tr>\n",
       "            <td>Leaders_Icon</td>\n",
       "            <td>TEXT</td>\n",
       "            <td>4</td>\n",
       "        </tr>\n",
       "        <tr>\n",
       "            <td>Leaders_Score</td>\n",
       "            <td>TEXT</td>\n",
       "            <td>4</td>\n",
       "        </tr>\n",
       "        <tr>\n",
       "            <td>Teachers_Icon</td>\n",
       "            <td>TEXT</td>\n",
       "            <td>4</td>\n",
       "        </tr>\n",
       "        <tr>\n",
       "            <td>Teachers_Score</td>\n",
       "            <td>TEXT</td>\n",
       "            <td>4</td>\n",
       "        </tr>\n",
       "        <tr>\n",
       "            <td>Parent_Engagement_Icon</td>\n",
       "            <td>TEXT</td>\n",
       "            <td>4</td>\n",
       "        </tr>\n",
       "        <tr>\n",
       "            <td>Parent_Engagement_Score</td>\n",
       "            <td>TEXT</td>\n",
       "            <td>4</td>\n",
       "        </tr>\n",
       "        <tr>\n",
       "            <td>Parent_Environment_Icon</td>\n",
       "            <td>TEXT</td>\n",
       "            <td>4</td>\n",
       "        </tr>\n",
       "        <tr>\n",
       "            <td>Parent_Environment_Score</td>\n",
       "            <td>TEXT</td>\n",
       "            <td>4</td>\n",
       "        </tr>\n",
       "        <tr>\n",
       "            <td>AVERAGE_STUDENT_ATTENDANCE</td>\n",
       "            <td>TEXT</td>\n",
       "            <td>4</td>\n",
       "        </tr>\n",
       "        <tr>\n",
       "            <td>Rate_of_Misconducts__per_100_students_</td>\n",
       "            <td>REAL</td>\n",
       "            <td>4</td>\n",
       "        </tr>\n",
       "        <tr>\n",
       "            <td>Average_Teacher_Attendance</td>\n",
       "            <td>TEXT</td>\n",
       "            <td>4</td>\n",
       "        </tr>\n",
       "        <tr>\n",
       "            <td>Individualized_Education_Program_Compliance_Rate</td>\n",
       "            <td>TEXT</td>\n",
       "            <td>4</td>\n",
       "        </tr>\n",
       "        <tr>\n",
       "            <td>Pk_2_Literacy__</td>\n",
       "            <td>TEXT</td>\n",
       "            <td>4</td>\n",
       "        </tr>\n",
       "        <tr>\n",
       "            <td>Pk_2_Math__</td>\n",
       "            <td>TEXT</td>\n",
       "            <td>4</td>\n",
       "        </tr>\n",
       "        <tr>\n",
       "            <td>Gr3_5_Grade_Level_Math__</td>\n",
       "            <td>TEXT</td>\n",
       "            <td>4</td>\n",
       "        </tr>\n",
       "        <tr>\n",
       "            <td>Gr3_5_Grade_Level_Read__</td>\n",
       "            <td>TEXT</td>\n",
       "            <td>4</td>\n",
       "        </tr>\n",
       "        <tr>\n",
       "            <td>Gr3_5_Keep_Pace_Read__</td>\n",
       "            <td>TEXT</td>\n",
       "            <td>4</td>\n",
       "        </tr>\n",
       "        <tr>\n",
       "            <td>Gr3_5_Keep_Pace_Math__</td>\n",
       "            <td>TEXT</td>\n",
       "            <td>4</td>\n",
       "        </tr>\n",
       "        <tr>\n",
       "            <td>Gr6_8_Grade_Level_Math__</td>\n",
       "            <td>TEXT</td>\n",
       "            <td>4</td>\n",
       "        </tr>\n",
       "        <tr>\n",
       "            <td>Gr6_8_Grade_Level_Read__</td>\n",
       "            <td>TEXT</td>\n",
       "            <td>4</td>\n",
       "        </tr>\n",
       "        <tr>\n",
       "            <td>Gr6_8_Keep_Pace_Math_</td>\n",
       "            <td>TEXT</td>\n",
       "            <td>4</td>\n",
       "        </tr>\n",
       "        <tr>\n",
       "            <td>Gr6_8_Keep_Pace_Read__</td>\n",
       "            <td>TEXT</td>\n",
       "            <td>4</td>\n",
       "        </tr>\n",
       "        <tr>\n",
       "            <td>Gr_8_Explore_Math__</td>\n",
       "            <td>TEXT</td>\n",
       "            <td>4</td>\n",
       "        </tr>\n",
       "        <tr>\n",
       "            <td>Gr_8_Explore_Read__</td>\n",
       "            <td>TEXT</td>\n",
       "            <td>4</td>\n",
       "        </tr>\n",
       "        <tr>\n",
       "            <td>ISAT_Exceeding_Math__</td>\n",
       "            <td>REAL</td>\n",
       "            <td>4</td>\n",
       "        </tr>\n",
       "        <tr>\n",
       "            <td>ISAT_Exceeding_Reading__</td>\n",
       "            <td>REAL</td>\n",
       "            <td>4</td>\n",
       "        </tr>\n",
       "        <tr>\n",
       "            <td>ISAT_Value_Add_Math</td>\n",
       "            <td>REAL</td>\n",
       "            <td>4</td>\n",
       "        </tr>\n",
       "        <tr>\n",
       "            <td>ISAT_Value_Add_Read</td>\n",
       "            <td>REAL</td>\n",
       "            <td>4</td>\n",
       "        </tr>\n",
       "        <tr>\n",
       "            <td>ISAT_Value_Add_Color_Math</td>\n",
       "            <td>TEXT</td>\n",
       "            <td>4</td>\n",
       "        </tr>\n",
       "        <tr>\n",
       "            <td>ISAT_Value_Add_Color_Read</td>\n",
       "            <td>TEXT</td>\n",
       "            <td>4</td>\n",
       "        </tr>\n",
       "        <tr>\n",
       "            <td>Students_Taking__Algebra__</td>\n",
       "            <td>TEXT</td>\n",
       "            <td>4</td>\n",
       "        </tr>\n",
       "        <tr>\n",
       "            <td>Students_Passing__Algebra__</td>\n",
       "            <td>TEXT</td>\n",
       "            <td>4</td>\n",
       "        </tr>\n",
       "        <tr>\n",
       "            <td>9th Grade EXPLORE (2009)</td>\n",
       "            <td>TEXT</td>\n",
       "            <td>4</td>\n",
       "        </tr>\n",
       "        <tr>\n",
       "            <td>9th Grade EXPLORE (2010)</td>\n",
       "            <td>TEXT</td>\n",
       "            <td>4</td>\n",
       "        </tr>\n",
       "        <tr>\n",
       "            <td>10th Grade PLAN (2009)</td>\n",
       "            <td>TEXT</td>\n",
       "            <td>4</td>\n",
       "        </tr>\n",
       "        <tr>\n",
       "            <td>10th Grade PLAN (2010)</td>\n",
       "            <td>TEXT</td>\n",
       "            <td>4</td>\n",
       "        </tr>\n",
       "        <tr>\n",
       "            <td>Net_Change_EXPLORE_and_PLAN</td>\n",
       "            <td>TEXT</td>\n",
       "            <td>4</td>\n",
       "        </tr>\n",
       "        <tr>\n",
       "            <td>11th Grade Average ACT (2011)</td>\n",
       "            <td>TEXT</td>\n",
       "            <td>4</td>\n",
       "        </tr>\n",
       "        <tr>\n",
       "            <td>Net_Change_PLAN_and_ACT</td>\n",
       "            <td>TEXT</td>\n",
       "            <td>4</td>\n",
       "        </tr>\n",
       "        <tr>\n",
       "            <td>College_Eligibility__</td>\n",
       "            <td>TEXT</td>\n",
       "            <td>4</td>\n",
       "        </tr>\n",
       "        <tr>\n",
       "            <td>Graduation_Rate__</td>\n",
       "            <td>TEXT</td>\n",
       "            <td>4</td>\n",
       "        </tr>\n",
       "        <tr>\n",
       "            <td>College_Enrollment_Rate__</td>\n",
       "            <td>TEXT</td>\n",
       "            <td>4</td>\n",
       "        </tr>\n",
       "        <tr>\n",
       "            <td>COLLEGE_ENROLLMENT</td>\n",
       "            <td>INTEGER</td>\n",
       "            <td>7</td>\n",
       "        </tr>\n",
       "        <tr>\n",
       "            <td>General_Services_Route</td>\n",
       "            <td>INTEGER</td>\n",
       "            <td>7</td>\n",
       "        </tr>\n",
       "        <tr>\n",
       "            <td>Freshman_on_Track_Rate__</td>\n",
       "            <td>TEXT</td>\n",
       "            <td>4</td>\n",
       "        </tr>\n",
       "        <tr>\n",
       "            <td>X_COORDINATE</td>\n",
       "            <td>REAL</td>\n",
       "            <td>4</td>\n",
       "        </tr>\n",
       "        <tr>\n",
       "            <td>Y_COORDINATE</td>\n",
       "            <td>REAL</td>\n",
       "            <td>4</td>\n",
       "        </tr>\n",
       "        <tr>\n",
       "            <td>Latitude</td>\n",
       "            <td>REAL</td>\n",
       "            <td>4</td>\n",
       "        </tr>\n",
       "        <tr>\n",
       "            <td>Longitude</td>\n",
       "            <td>REAL</td>\n",
       "            <td>4</td>\n",
       "        </tr>\n",
       "        <tr>\n",
       "            <td>COMMUNITY_AREA_NUMBER</td>\n",
       "            <td>INTEGER</td>\n",
       "            <td>7</td>\n",
       "        </tr>\n",
       "        <tr>\n",
       "            <td>COMMUNITY_AREA_NAME</td>\n",
       "            <td>TEXT</td>\n",
       "            <td>4</td>\n",
       "        </tr>\n",
       "        <tr>\n",
       "            <td>Ward</td>\n",
       "            <td>INTEGER</td>\n",
       "            <td>7</td>\n",
       "        </tr>\n",
       "        <tr>\n",
       "            <td>Police_District</td>\n",
       "            <td>INTEGER</td>\n",
       "            <td>7</td>\n",
       "        </tr>\n",
       "        <tr>\n",
       "            <td>Location</td>\n",
       "            <td>TEXT</td>\n",
       "            <td>4</td>\n",
       "        </tr>\n",
       "    </tbody>\n",
       "</table>"
      ],
      "text/plain": [
       "[('School_ID', 'INTEGER', 7),\n",
       " ('NAME_OF_SCHOOL', 'TEXT', 4),\n",
       " ('Elementary, Middle, or High School', 'TEXT', 4),\n",
       " ('Street_Address', 'TEXT', 4),\n",
       " ('City', 'TEXT', 4),\n",
       " ('State', 'TEXT', 4),\n",
       " ('ZIP_Code', 'INTEGER', 7),\n",
       " ('Phone_Number', 'TEXT', 4),\n",
       " ('Link', 'TEXT', 4),\n",
       " ('Network_Manager', 'TEXT', 4),\n",
       " ('Collaborative_Name', 'TEXT', 4),\n",
       " ('Adequate_Yearly_Progress_Made_', 'TEXT', 4),\n",
       " ('Track_Schedule', 'TEXT', 4),\n",
       " ('CPS_Performance_Policy_Status', 'TEXT', 4),\n",
       " ('CPS_Performance_Policy_Level', 'TEXT', 4),\n",
       " ('HEALTHY_SCHOOL_CERTIFIED', 'TEXT', 4),\n",
       " ('Safety_Icon', 'TEXT', 4),\n",
       " ('SAFETY_SCORE', 'REAL', 4),\n",
       " ('Family_Involvement_Icon', 'TEXT', 4),\n",
       " ('Family_Involvement_Score', 'TEXT', 4),\n",
       " ('Environment_Icon', 'TEXT', 4),\n",
       " ('Environment_Score', 'REAL', 4),\n",
       " ('Instruction_Icon', 'TEXT', 4),\n",
       " ('Instruction_Score', 'REAL', 4),\n",
       " ('Leaders_Icon', 'TEXT', 4),\n",
       " ('Leaders_Score', 'TEXT', 4),\n",
       " ('Teachers_Icon', 'TEXT', 4),\n",
       " ('Teachers_Score', 'TEXT', 4),\n",
       " ('Parent_Engagement_Icon', 'TEXT', 4),\n",
       " ('Parent_Engagement_Score', 'TEXT', 4),\n",
       " ('Parent_Environment_Icon', 'TEXT', 4),\n",
       " ('Parent_Environment_Score', 'TEXT', 4),\n",
       " ('AVERAGE_STUDENT_ATTENDANCE', 'TEXT', 4),\n",
       " ('Rate_of_Misconducts__per_100_students_', 'REAL', 4),\n",
       " ('Average_Teacher_Attendance', 'TEXT', 4),\n",
       " ('Individualized_Education_Program_Compliance_Rate', 'TEXT', 4),\n",
       " ('Pk_2_Literacy__', 'TEXT', 4),\n",
       " ('Pk_2_Math__', 'TEXT', 4),\n",
       " ('Gr3_5_Grade_Level_Math__', 'TEXT', 4),\n",
       " ('Gr3_5_Grade_Level_Read__', 'TEXT', 4),\n",
       " ('Gr3_5_Keep_Pace_Read__', 'TEXT', 4),\n",
       " ('Gr3_5_Keep_Pace_Math__', 'TEXT', 4),\n",
       " ('Gr6_8_Grade_Level_Math__', 'TEXT', 4),\n",
       " ('Gr6_8_Grade_Level_Read__', 'TEXT', 4),\n",
       " ('Gr6_8_Keep_Pace_Math_', 'TEXT', 4),\n",
       " ('Gr6_8_Keep_Pace_Read__', 'TEXT', 4),\n",
       " ('Gr_8_Explore_Math__', 'TEXT', 4),\n",
       " ('Gr_8_Explore_Read__', 'TEXT', 4),\n",
       " ('ISAT_Exceeding_Math__', 'REAL', 4),\n",
       " ('ISAT_Exceeding_Reading__', 'REAL', 4),\n",
       " ('ISAT_Value_Add_Math', 'REAL', 4),\n",
       " ('ISAT_Value_Add_Read', 'REAL', 4),\n",
       " ('ISAT_Value_Add_Color_Math', 'TEXT', 4),\n",
       " ('ISAT_Value_Add_Color_Read', 'TEXT', 4),\n",
       " ('Students_Taking__Algebra__', 'TEXT', 4),\n",
       " ('Students_Passing__Algebra__', 'TEXT', 4),\n",
       " ('9th Grade EXPLORE (2009)', 'TEXT', 4),\n",
       " ('9th Grade EXPLORE (2010)', 'TEXT', 4),\n",
       " ('10th Grade PLAN (2009)', 'TEXT', 4),\n",
       " ('10th Grade PLAN (2010)', 'TEXT', 4),\n",
       " ('Net_Change_EXPLORE_and_PLAN', 'TEXT', 4),\n",
       " ('11th Grade Average ACT (2011)', 'TEXT', 4),\n",
       " ('Net_Change_PLAN_and_ACT', 'TEXT', 4),\n",
       " ('College_Eligibility__', 'TEXT', 4),\n",
       " ('Graduation_Rate__', 'TEXT', 4),\n",
       " ('College_Enrollment_Rate__', 'TEXT', 4),\n",
       " ('COLLEGE_ENROLLMENT', 'INTEGER', 7),\n",
       " ('General_Services_Route', 'INTEGER', 7),\n",
       " ('Freshman_on_Track_Rate__', 'TEXT', 4),\n",
       " ('X_COORDINATE', 'REAL', 4),\n",
       " ('Y_COORDINATE', 'REAL', 4),\n",
       " ('Latitude', 'REAL', 4),\n",
       " ('Longitude', 'REAL', 4),\n",
       " ('COMMUNITY_AREA_NUMBER', 'INTEGER', 7),\n",
       " ('COMMUNITY_AREA_NAME', 'TEXT', 4),\n",
       " ('Ward', 'INTEGER', 7),\n",
       " ('Police_District', 'INTEGER', 7),\n",
       " ('Location', 'TEXT', 4)]"
      ]
     },
     "execution_count": 18,
     "metadata": {},
     "output_type": "execute_result"
    }
   ],
   "source": [
    "%sql SELECT name,type,length(type) FROM PRAGMA_TABLE_INFO('CHICAGO_PUBLIC_SCHOOLS_DATA');"
   ]
  },
  {
   "cell_type": "code",
   "execution_count": 23,
   "metadata": {
    "tags": []
   },
   "outputs": [
    {
     "name": "stdout",
     "output_type": "stream",
     "text": [
      " * sqlite:///FINALDB.db\n",
      "Done.\n"
     ]
    },
    {
     "data": {
      "text/html": [
       "<table>\n",
       "    <thead>\n",
       "        <tr>\n",
       "            <th>name</th>\n",
       "            <th>type</th>\n",
       "            <th>length(type)</th>\n",
       "        </tr>\n",
       "    </thead>\n",
       "    <tbody>\n",
       "        <tr>\n",
       "            <td>COMMUNITY_AREA_NUMBER</td>\n",
       "            <td>REAL</td>\n",
       "            <td>4</td>\n",
       "        </tr>\n",
       "        <tr>\n",
       "            <td>COMMUNITY_AREA_NAME</td>\n",
       "            <td>TEXT</td>\n",
       "            <td>4</td>\n",
       "        </tr>\n",
       "        <tr>\n",
       "            <td>PERCENT_OF_HOUSING_CROWDED</td>\n",
       "            <td>REAL</td>\n",
       "            <td>4</td>\n",
       "        </tr>\n",
       "        <tr>\n",
       "            <td>PERCENT_HOUSEHOLDS_BELOW_POVERTY</td>\n",
       "            <td>REAL</td>\n",
       "            <td>4</td>\n",
       "        </tr>\n",
       "        <tr>\n",
       "            <td>PERCENT_AGED_16__UNEMPLOYED</td>\n",
       "            <td>REAL</td>\n",
       "            <td>4</td>\n",
       "        </tr>\n",
       "        <tr>\n",
       "            <td>PERCENT_AGED_25__WITHOUT_HIGH_SCHOOL_DIPLOMA</td>\n",
       "            <td>REAL</td>\n",
       "            <td>4</td>\n",
       "        </tr>\n",
       "        <tr>\n",
       "            <td>PERCENT_AGED_UNDER_18_OR_OVER_64</td>\n",
       "            <td>REAL</td>\n",
       "            <td>4</td>\n",
       "        </tr>\n",
       "        <tr>\n",
       "            <td>PER_CAPITA_INCOME</td>\n",
       "            <td>INTEGER</td>\n",
       "            <td>7</td>\n",
       "        </tr>\n",
       "        <tr>\n",
       "            <td>HARDSHIP_INDEX</td>\n",
       "            <td>REAL</td>\n",
       "            <td>4</td>\n",
       "        </tr>\n",
       "    </tbody>\n",
       "</table>"
      ],
      "text/plain": [
       "[('COMMUNITY_AREA_NUMBER', 'REAL', 4),\n",
       " ('COMMUNITY_AREA_NAME', 'TEXT', 4),\n",
       " ('PERCENT_OF_HOUSING_CROWDED', 'REAL', 4),\n",
       " ('PERCENT_HOUSEHOLDS_BELOW_POVERTY', 'REAL', 4),\n",
       " ('PERCENT_AGED_16__UNEMPLOYED', 'REAL', 4),\n",
       " ('PERCENT_AGED_25__WITHOUT_HIGH_SCHOOL_DIPLOMA', 'REAL', 4),\n",
       " ('PERCENT_AGED_UNDER_18_OR_OVER_64', 'REAL', 4),\n",
       " ('PER_CAPITA_INCOME', 'INTEGER', 7),\n",
       " ('HARDSHIP_INDEX', 'REAL', 4)]"
      ]
     },
     "execution_count": 23,
     "metadata": {},
     "output_type": "execute_result"
    }
   ],
   "source": [
    "%sql SELECT name,type,length(type) FROM PRAGMA_TABLE_INFO('CENSUS_DATA');"
   ]
  },
  {
   "cell_type": "code",
   "execution_count": 25,
   "metadata": {
    "tags": []
   },
   "outputs": [
    {
     "name": "stdout",
     "output_type": "stream",
     "text": [
      " * sqlite:///FINALDB.db\n",
      "Done.\n"
     ]
    },
    {
     "data": {
      "text/html": [
       "<table>\n",
       "    <thead>\n",
       "        <tr>\n",
       "            <th>name</th>\n",
       "            <th>type</th>\n",
       "            <th>length(type)</th>\n",
       "        </tr>\n",
       "    </thead>\n",
       "    <tbody>\n",
       "        <tr>\n",
       "            <td>ID</td>\n",
       "            <td>INTEGER</td>\n",
       "            <td>7</td>\n",
       "        </tr>\n",
       "        <tr>\n",
       "            <td>CASE_NUMBER</td>\n",
       "            <td>TEXT</td>\n",
       "            <td>4</td>\n",
       "        </tr>\n",
       "        <tr>\n",
       "            <td>DATE</td>\n",
       "            <td>TEXT</td>\n",
       "            <td>4</td>\n",
       "        </tr>\n",
       "        <tr>\n",
       "            <td>BLOCK</td>\n",
       "            <td>TEXT</td>\n",
       "            <td>4</td>\n",
       "        </tr>\n",
       "        <tr>\n",
       "            <td>IUCR</td>\n",
       "            <td>TEXT</td>\n",
       "            <td>4</td>\n",
       "        </tr>\n",
       "        <tr>\n",
       "            <td>PRIMARY_TYPE</td>\n",
       "            <td>TEXT</td>\n",
       "            <td>4</td>\n",
       "        </tr>\n",
       "        <tr>\n",
       "            <td>DESCRIPTION</td>\n",
       "            <td>TEXT</td>\n",
       "            <td>4</td>\n",
       "        </tr>\n",
       "        <tr>\n",
       "            <td>LOCATION_DESCRIPTION</td>\n",
       "            <td>TEXT</td>\n",
       "            <td>4</td>\n",
       "        </tr>\n",
       "        <tr>\n",
       "            <td>ARREST</td>\n",
       "            <td>INTEGER</td>\n",
       "            <td>7</td>\n",
       "        </tr>\n",
       "        <tr>\n",
       "            <td>DOMESTIC</td>\n",
       "            <td>INTEGER</td>\n",
       "            <td>7</td>\n",
       "        </tr>\n",
       "        <tr>\n",
       "            <td>BEAT</td>\n",
       "            <td>INTEGER</td>\n",
       "            <td>7</td>\n",
       "        </tr>\n",
       "        <tr>\n",
       "            <td>DISTRICT</td>\n",
       "            <td>INTEGER</td>\n",
       "            <td>7</td>\n",
       "        </tr>\n",
       "        <tr>\n",
       "            <td>WARD</td>\n",
       "            <td>REAL</td>\n",
       "            <td>4</td>\n",
       "        </tr>\n",
       "        <tr>\n",
       "            <td>COMMUNITY_AREA_NUMBER</td>\n",
       "            <td>REAL</td>\n",
       "            <td>4</td>\n",
       "        </tr>\n",
       "        <tr>\n",
       "            <td>FBICODE</td>\n",
       "            <td>TEXT</td>\n",
       "            <td>4</td>\n",
       "        </tr>\n",
       "        <tr>\n",
       "            <td>X_COORDINATE</td>\n",
       "            <td>REAL</td>\n",
       "            <td>4</td>\n",
       "        </tr>\n",
       "        <tr>\n",
       "            <td>Y_COORDINATE</td>\n",
       "            <td>REAL</td>\n",
       "            <td>4</td>\n",
       "        </tr>\n",
       "        <tr>\n",
       "            <td>YEAR</td>\n",
       "            <td>INTEGER</td>\n",
       "            <td>7</td>\n",
       "        </tr>\n",
       "        <tr>\n",
       "            <td>LATITUDE</td>\n",
       "            <td>REAL</td>\n",
       "            <td>4</td>\n",
       "        </tr>\n",
       "        <tr>\n",
       "            <td>LONGITUDE</td>\n",
       "            <td>REAL</td>\n",
       "            <td>4</td>\n",
       "        </tr>\n",
       "        <tr>\n",
       "            <td>LOCATION</td>\n",
       "            <td>TEXT</td>\n",
       "            <td>4</td>\n",
       "        </tr>\n",
       "    </tbody>\n",
       "</table>"
      ],
      "text/plain": [
       "[('ID', 'INTEGER', 7),\n",
       " ('CASE_NUMBER', 'TEXT', 4),\n",
       " ('DATE', 'TEXT', 4),\n",
       " ('BLOCK', 'TEXT', 4),\n",
       " ('IUCR', 'TEXT', 4),\n",
       " ('PRIMARY_TYPE', 'TEXT', 4),\n",
       " ('DESCRIPTION', 'TEXT', 4),\n",
       " ('LOCATION_DESCRIPTION', 'TEXT', 4),\n",
       " ('ARREST', 'INTEGER', 7),\n",
       " ('DOMESTIC', 'INTEGER', 7),\n",
       " ('BEAT', 'INTEGER', 7),\n",
       " ('DISTRICT', 'INTEGER', 7),\n",
       " ('WARD', 'REAL', 4),\n",
       " ('COMMUNITY_AREA_NUMBER', 'REAL', 4),\n",
       " ('FBICODE', 'TEXT', 4),\n",
       " ('X_COORDINATE', 'REAL', 4),\n",
       " ('Y_COORDINATE', 'REAL', 4),\n",
       " ('YEAR', 'INTEGER', 7),\n",
       " ('LATITUDE', 'REAL', 4),\n",
       " ('LONGITUDE', 'REAL', 4),\n",
       " ('LOCATION', 'TEXT', 4)]"
      ]
     },
     "execution_count": 25,
     "metadata": {},
     "output_type": "execute_result"
    }
   ],
   "source": [
    "%sql SELECT name,type,length(type) FROM PRAGMA_TABLE_INFO('CHICAGO_CRIME_DATA');"
   ]
  },
  {
   "cell_type": "markdown",
   "metadata": {},
   "source": [
    "You can now proceed to the the following questions. Please note that a graded assignment will follow this lab and there will be a question on each of the problems stated below. It can be from the answer you received or the code you write for this problem. Therefore, please keep a note of both your codes as well as the response you generate.\n"
   ]
  },
  {
   "cell_type": "markdown",
   "metadata": {},
   "source": [
    "## Problems\n",
    "\n",
    "Now write and execute SQL queries to solve assignment problems\n",
    "\n",
    "### Problem 1\n",
    "\n",
    "##### Find the total number of crimes recorded in the CRIME table.\n"
   ]
  },
  {
   "cell_type": "code",
   "execution_count": 27,
   "metadata": {
    "tags": []
   },
   "outputs": [
    {
     "name": "stdout",
     "output_type": "stream",
     "text": [
      " * sqlite:///FINALDB.db\n",
      "Done.\n"
     ]
    },
    {
     "data": {
      "text/html": [
       "<table>\n",
       "    <thead>\n",
       "        <tr>\n",
       "            <th>COUNT(CASE_NUMBER)</th>\n",
       "        </tr>\n",
       "    </thead>\n",
       "    <tbody>\n",
       "        <tr>\n",
       "            <td>533</td>\n",
       "        </tr>\n",
       "    </tbody>\n",
       "</table>"
      ],
      "text/plain": [
       "[(533,)]"
      ]
     },
     "execution_count": 27,
     "metadata": {},
     "output_type": "execute_result"
    }
   ],
   "source": [
    "%sql SELECT COUNT(CASE_NUMBER) FROM CHICAGO_CRIME_DATA;"
   ]
  },
  {
   "cell_type": "markdown",
   "metadata": {},
   "source": [
    "### Problem 2\n",
    "\n",
    "##### List community area names and numbers with per capita income less than 11000.\n"
   ]
  },
  {
   "cell_type": "code",
   "execution_count": 29,
   "metadata": {
    "tags": []
   },
   "outputs": [
    {
     "name": "stdout",
     "output_type": "stream",
     "text": [
      " * sqlite:///FINALDB.db\n",
      "Done.\n"
     ]
    },
    {
     "data": {
      "text/html": [
       "<table>\n",
       "    <thead>\n",
       "        <tr>\n",
       "            <th>COMMUNITY_AREA_NAME</th>\n",
       "            <th>COMMUNITY_AREA_NUMBER</th>\n",
       "            <th>PER_CAPITA_INCOME</th>\n",
       "        </tr>\n",
       "    </thead>\n",
       "    <tbody>\n",
       "        <tr>\n",
       "            <td>West Garfield Park</td>\n",
       "            <td>26.0</td>\n",
       "            <td>10934</td>\n",
       "        </tr>\n",
       "        <tr>\n",
       "            <td>South Lawndale</td>\n",
       "            <td>30.0</td>\n",
       "            <td>10402</td>\n",
       "        </tr>\n",
       "        <tr>\n",
       "            <td>Fuller Park</td>\n",
       "            <td>37.0</td>\n",
       "            <td>10432</td>\n",
       "        </tr>\n",
       "        <tr>\n",
       "            <td>Riverdale</td>\n",
       "            <td>54.0</td>\n",
       "            <td>8201</td>\n",
       "        </tr>\n",
       "    </tbody>\n",
       "</table>"
      ],
      "text/plain": [
       "[('West Garfield Park', 26.0, 10934),\n",
       " ('South Lawndale', 30.0, 10402),\n",
       " ('Fuller Park', 37.0, 10432),\n",
       " ('Riverdale', 54.0, 8201)]"
      ]
     },
     "execution_count": 29,
     "metadata": {},
     "output_type": "execute_result"
    }
   ],
   "source": [
    "%sql SELECT COMMUNITY_AREA_NAME, COMMUNITY_AREA_NUMBER, PER_CAPITA_INCOME FROM CENSUS_DATA WHERE PER_CAPITA_INCOME < 11000;\n"
   ]
  },
  {
   "cell_type": "markdown",
   "metadata": {},
   "source": [
    "### Problem 3\n",
    "\n",
    "##### List all case numbers for crimes involving minors?(children are not considered minors for the purposes of crime analysis) \n"
   ]
  },
  {
   "cell_type": "code",
   "execution_count": 39,
   "metadata": {
    "tags": []
   },
   "outputs": [
    {
     "name": "stdout",
     "output_type": "stream",
     "text": [
      " * sqlite:///FINALDB.db\n",
      "Done.\n"
     ]
    },
    {
     "data": {
      "text/html": [
       "<table>\n",
       "    <thead>\n",
       "        <tr>\n",
       "            <th>CASE_NUMBER</th>\n",
       "        </tr>\n",
       "    </thead>\n",
       "    <tbody>\n",
       "        <tr>\n",
       "            <td>HL266884</td>\n",
       "        </tr>\n",
       "        <tr>\n",
       "            <td>HK238408</td>\n",
       "        </tr>\n",
       "    </tbody>\n",
       "</table>"
      ],
      "text/plain": [
       "[('HL266884',), ('HK238408',)]"
      ]
     },
     "execution_count": 39,
     "metadata": {},
     "output_type": "execute_result"
    }
   ],
   "source": [
    "%sql SELECT CASE_NUMBER FROM CHICAGO_CRIME_DATA WHERE DESCRIPTION LIKE '%MINOR%';\n"
   ]
  },
  {
   "cell_type": "markdown",
   "metadata": {},
   "source": [
    "### Problem 4\n",
    "\n",
    "##### List all kidnapping crimes involving a child?\n"
   ]
  },
  {
   "cell_type": "code",
   "execution_count": 45,
   "metadata": {
    "tags": []
   },
   "outputs": [
    {
     "name": "stdout",
     "output_type": "stream",
     "text": [
      " * sqlite:///FINALDB.db\n",
      "Done.\n"
     ]
    },
    {
     "data": {
      "text/html": [
       "<table>\n",
       "    <thead>\n",
       "        <tr>\n",
       "            <th>ID</th>\n",
       "            <th>CASE_NUMBER</th>\n",
       "            <th>DATE</th>\n",
       "            <th>BLOCK</th>\n",
       "            <th>IUCR</th>\n",
       "            <th>PRIMARY_TYPE</th>\n",
       "            <th>DESCRIPTION</th>\n",
       "            <th>LOCATION_DESCRIPTION</th>\n",
       "            <th>ARREST</th>\n",
       "            <th>DOMESTIC</th>\n",
       "            <th>BEAT</th>\n",
       "            <th>DISTRICT</th>\n",
       "            <th>WARD</th>\n",
       "            <th>COMMUNITY_AREA_NUMBER</th>\n",
       "            <th>FBICODE</th>\n",
       "            <th>X_COORDINATE</th>\n",
       "            <th>Y_COORDINATE</th>\n",
       "            <th>YEAR</th>\n",
       "            <th>LATITUDE</th>\n",
       "            <th>LONGITUDE</th>\n",
       "            <th>LOCATION</th>\n",
       "        </tr>\n",
       "    </thead>\n",
       "    <tbody>\n",
       "        <tr>\n",
       "            <td>5276766</td>\n",
       "            <td>HN144152</td>\n",
       "            <td>2007-01-26</td>\n",
       "            <td>050XX W VAN BUREN ST</td>\n",
       "            <td>1792</td>\n",
       "            <td>KIDNAPPING</td>\n",
       "            <td>CHILD ABDUCTION/STRANGER</td>\n",
       "            <td>STREET</td>\n",
       "            <td>0</td>\n",
       "            <td>0</td>\n",
       "            <td>1533</td>\n",
       "            <td>15</td>\n",
       "            <td>29.0</td>\n",
       "            <td>25.0</td>\n",
       "            <td>20</td>\n",
       "            <td>1143050.0</td>\n",
       "            <td>1897546.0</td>\n",
       "            <td>2007</td>\n",
       "            <td>41.87490841</td>\n",
       "            <td>-87.75024931</td>\n",
       "            <td>(41.874908413, -87.750249307)</td>\n",
       "        </tr>\n",
       "    </tbody>\n",
       "</table>"
      ],
      "text/plain": [
       "[(5276766, 'HN144152', '2007-01-26', '050XX W VAN BUREN ST', '1792', 'KIDNAPPING', 'CHILD ABDUCTION/STRANGER', 'STREET', 0, 0, 1533, 15, 29.0, 25.0, '20', 1143050.0, 1897546.0, 2007, 41.87490841, -87.75024931, '(41.874908413, -87.750249307)')]"
      ]
     },
     "execution_count": 45,
     "metadata": {},
     "output_type": "execute_result"
    }
   ],
   "source": [
    "%sql SELECT * FROM CHICAGO_CRIME_DATA WHERE PRIMARY_TYPE = 'KIDNAPPING';"
   ]
  },
  {
   "cell_type": "markdown",
   "metadata": {},
   "source": [
    "### Problem 5\n",
    "\n",
    "##### List the kind of crimes that were recorded at schools. (No repetitions)\n"
   ]
  },
  {
   "cell_type": "code",
   "execution_count": 66,
   "metadata": {
    "tags": []
   },
   "outputs": [
    {
     "name": "stdout",
     "output_type": "stream",
     "text": [
      " * sqlite:///FINALDB.db\n",
      "Done.\n"
     ]
    },
    {
     "data": {
      "text/html": [
       "<table>\n",
       "    <thead>\n",
       "        <tr>\n",
       "            <th>PRIMARY_TYPE</th>\n",
       "        </tr>\n",
       "    </thead>\n",
       "    <tbody>\n",
       "        <tr>\n",
       "            <td>BATTERY</td>\n",
       "        </tr>\n",
       "        <tr>\n",
       "            <td>CRIMINAL DAMAGE</td>\n",
       "        </tr>\n",
       "        <tr>\n",
       "            <td>NARCOTICS</td>\n",
       "        </tr>\n",
       "        <tr>\n",
       "            <td>ASSAULT</td>\n",
       "        </tr>\n",
       "        <tr>\n",
       "            <td>CRIMINAL TRESPASS</td>\n",
       "        </tr>\n",
       "        <tr>\n",
       "            <td>PUBLIC PEACE VIOLATION</td>\n",
       "        </tr>\n",
       "    </tbody>\n",
       "</table>"
      ],
      "text/plain": [
       "[('BATTERY',),\n",
       " ('CRIMINAL DAMAGE',),\n",
       " ('NARCOTICS',),\n",
       " ('ASSAULT',),\n",
       " ('CRIMINAL TRESPASS',),\n",
       " ('PUBLIC PEACE VIOLATION',)]"
      ]
     },
     "execution_count": 66,
     "metadata": {},
     "output_type": "execute_result"
    }
   ],
   "source": [
    "%sql SELECT DISTINCT PRIMARY_TYPE FROM CHICAGO_CRIME_DATA WHERE LOCATION_DESCRIPTION LIKE '%SCHOOL%';\n"
   ]
  },
  {
   "cell_type": "markdown",
   "metadata": {},
   "source": [
    "### Problem 6\n",
    "\n",
    "##### List the type of schools along with the average safety score for each type.\n"
   ]
  },
  {
   "cell_type": "code",
   "execution_count": 60,
   "metadata": {
    "tags": []
   },
   "outputs": [
    {
     "name": "stdout",
     "output_type": "stream",
     "text": [
      " * sqlite:///FINALDB.db\n",
      "Done.\n"
     ]
    },
    {
     "data": {
      "text/html": [
       "<table>\n",
       "    <thead>\n",
       "        <tr>\n",
       "            <th>Elementary, Middle, or High School</th>\n",
       "            <th>AVG(SAFETY_SCORE)</th>\n",
       "        </tr>\n",
       "    </thead>\n",
       "    <tbody>\n",
       "        <tr>\n",
       "            <td>ES</td>\n",
       "            <td>49.52038369304557</td>\n",
       "        </tr>\n",
       "        <tr>\n",
       "            <td>HS</td>\n",
       "            <td>49.62352941176471</td>\n",
       "        </tr>\n",
       "        <tr>\n",
       "            <td>MS</td>\n",
       "            <td>48.0</td>\n",
       "        </tr>\n",
       "    </tbody>\n",
       "</table>"
      ],
      "text/plain": [
       "[('ES', 49.52038369304557), ('HS', 49.62352941176471), ('MS', 48.0)]"
      ]
     },
     "execution_count": 60,
     "metadata": {},
     "output_type": "execute_result"
    }
   ],
   "source": [
    "%sql SELECT \"Elementary, Middle, or High School\", AVG(SAFETY_SCORE) FROM CHICAGO_PUBLIC_SCHOOLS_DATA GROUP BY \"Elementary, Middle, or High School\";"
   ]
  },
  {
   "cell_type": "markdown",
   "metadata": {},
   "source": [
    "### Problem 7\n",
    "\n",
    "##### List 5 community areas with highest % of households below poverty line\n"
   ]
  },
  {
   "cell_type": "code",
   "execution_count": 100,
   "metadata": {},
   "outputs": [
    {
     "name": "stdout",
     "output_type": "stream",
     "text": [
      " * sqlite:///FINALDB.db\n",
      "Done.\n"
     ]
    },
    {
     "data": {
      "text/html": [
       "<table>\n",
       "    <thead>\n",
       "        <tr>\n",
       "            <th>COMMUNITY_AREA_NAME</th>\n",
       "            <th>COMMUNITY_AREA_NUMBER</th>\n",
       "        </tr>\n",
       "    </thead>\n",
       "    <tbody>\n",
       "        <tr>\n",
       "            <td>Riverdale</td>\n",
       "            <td>54.0</td>\n",
       "        </tr>\n",
       "        <tr>\n",
       "            <td>Fuller Park</td>\n",
       "            <td>37.0</td>\n",
       "        </tr>\n",
       "        <tr>\n",
       "            <td>Englewood</td>\n",
       "            <td>68.0</td>\n",
       "        </tr>\n",
       "        <tr>\n",
       "            <td>North Lawndale</td>\n",
       "            <td>29.0</td>\n",
       "        </tr>\n",
       "        <tr>\n",
       "            <td>East Garfield Park</td>\n",
       "            <td>27.0</td>\n",
       "        </tr>\n",
       "    </tbody>\n",
       "</table>"
      ],
      "text/plain": [
       "[('Riverdale', 54.0),\n",
       " ('Fuller Park', 37.0),\n",
       " ('Englewood', 68.0),\n",
       " ('North Lawndale', 29.0),\n",
       " ('East Garfield Park', 27.0)]"
      ]
     },
     "execution_count": 100,
     "metadata": {},
     "output_type": "execute_result"
    }
   ],
   "source": [
    "%sql SELECT COMMUNITY_AREA_NAME, COMMUNITY_AREA_NUMBER FROM CENSUS_DATA ORDER BY PERCENT_HOUSEHOLDS_BELOW_POVERTY DESC LIMIT 5;\n"
   ]
  },
  {
   "cell_type": "markdown",
   "metadata": {},
   "source": [
    "### Problem 8\n",
    "\n",
    "##### Which community area is most crime prone? Display the coumminty area number only.\n"
   ]
  },
  {
   "cell_type": "code",
   "execution_count": 98,
   "metadata": {},
   "outputs": [
    {
     "name": "stdout",
     "output_type": "stream",
     "text": [
      " * sqlite:///FINALDB.db\n",
      "Done.\n"
     ]
    },
    {
     "data": {
      "text/html": [
       "<table>\n",
       "    <thead>\n",
       "        <tr>\n",
       "            <th>COUNT(CASE_NUMBER)</th>\n",
       "            <th>COMMUNITY_AREA_NUMBER</th>\n",
       "        </tr>\n",
       "    </thead>\n",
       "    <tbody>\n",
       "        <tr>\n",
       "            <td>43</td>\n",
       "            <td>25.0</td>\n",
       "        </tr>\n",
       "    </tbody>\n",
       "</table>"
      ],
      "text/plain": [
       "[(43, 25.0)]"
      ]
     },
     "execution_count": 98,
     "metadata": {},
     "output_type": "execute_result"
    }
   ],
   "source": [
    "%sql SELECT COUNT(CASE_NUMBER), COMMUNITY_AREA_NUMBER FROM CHICAGO_CRIME_DATA GROUP BY COMMUNITY_AREA_NUMBER ORDER BY COUNT(CASE_NUMBER) DESC LIMIT 1;\n"
   ]
  },
  {
   "cell_type": "markdown",
   "metadata": {},
   "source": [
    "### Problem 9\n",
    "\n",
    "##### Use a sub-query to find the name of the community area with highest hardship index\n"
   ]
  },
  {
   "cell_type": "code",
   "execution_count": 108,
   "metadata": {},
   "outputs": [
    {
     "name": "stdout",
     "output_type": "stream",
     "text": [
      " * sqlite:///FINALDB.db\n",
      "Done.\n"
     ]
    },
    {
     "data": {
      "text/html": [
       "<table>\n",
       "    <thead>\n",
       "        <tr>\n",
       "            <th>COMMUNITY_AREA_NAME</th>\n",
       "        </tr>\n",
       "    </thead>\n",
       "    <tbody>\n",
       "        <tr>\n",
       "            <td>Riverdale</td>\n",
       "        </tr>\n",
       "    </tbody>\n",
       "</table>"
      ],
      "text/plain": [
       "[('Riverdale',)]"
      ]
     },
     "execution_count": 108,
     "metadata": {},
     "output_type": "execute_result"
    }
   ],
   "source": [
    "%sql SELECT COMMUNITY_AREA_NAME FROM CENSUS_DATA WHERE HARDSHIP_INDEX = (SELECT MAX(HARDSHIP_INDEX) FROM CENSUS_DATA);\n"
   ]
  },
  {
   "cell_type": "code",
   "execution_count": 112,
   "metadata": {},
   "outputs": [
    {
     "name": "stdout",
     "output_type": "stream",
     "text": [
      " * sqlite:///FINALDB.db\n",
      "Done.\n"
     ]
    },
    {
     "data": {
      "text/html": [
       "<table>\n",
       "    <thead>\n",
       "        <tr>\n",
       "            <th>COMMUNITY_AREA_NAME</th>\n",
       "        </tr>\n",
       "    </thead>\n",
       "    <tbody>\n",
       "        <tr>\n",
       "            <td>Riverdale</td>\n",
       "        </tr>\n",
       "    </tbody>\n",
       "</table>"
      ],
      "text/plain": [
       "[('Riverdale',)]"
      ]
     },
     "execution_count": 112,
     "metadata": {},
     "output_type": "execute_result"
    }
   ],
   "source": [
    "%sql SELECT COMMUNITY_AREA_NAME FROM CENSUS_DATA ORDER BY HARDSHIP_INDEX DESC LIMIT 1;"
   ]
  },
  {
   "cell_type": "code",
   "execution_count": 116,
   "metadata": {},
   "outputs": [
    {
     "name": "stdout",
     "output_type": "stream",
     "text": [
      " * sqlite:///FINALDB.db\n",
      "Done.\n"
     ]
    },
    {
     "data": {
      "text/html": [
       "<table>\n",
       "    <thead>\n",
       "        <tr>\n",
       "            <th>ID</th>\n",
       "            <th>CASE_NUMBER</th>\n",
       "            <th>DATE</th>\n",
       "            <th>BLOCK</th>\n",
       "            <th>IUCR</th>\n",
       "            <th>PRIMARY_TYPE</th>\n",
       "            <th>DESCRIPTION</th>\n",
       "            <th>LOCATION_DESCRIPTION</th>\n",
       "            <th>ARREST</th>\n",
       "            <th>DOMESTIC</th>\n",
       "            <th>BEAT</th>\n",
       "            <th>DISTRICT</th>\n",
       "            <th>WARD</th>\n",
       "            <th>COMMUNITY_AREA_NUMBER</th>\n",
       "            <th>FBICODE</th>\n",
       "            <th>X_COORDINATE</th>\n",
       "            <th>Y_COORDINATE</th>\n",
       "            <th>YEAR</th>\n",
       "            <th>LATITUDE</th>\n",
       "            <th>LONGITUDE</th>\n",
       "            <th>LOCATION</th>\n",
       "        </tr>\n",
       "    </thead>\n",
       "    <tbody>\n",
       "        <tr>\n",
       "            <td>3512276</td>\n",
       "            <td>HK587712</td>\n",
       "            <td>2004-08-28</td>\n",
       "            <td>047XX S KEDZIE AVE</td>\n",
       "            <td>890</td>\n",
       "            <td>THEFT</td>\n",
       "            <td>FROM BUILDING</td>\n",
       "            <td>SMALL RETAIL STORE</td>\n",
       "            <td>0</td>\n",
       "            <td>0</td>\n",
       "            <td>911</td>\n",
       "            <td>9</td>\n",
       "            <td>14.0</td>\n",
       "            <td>58.0</td>\n",
       "            <td>6</td>\n",
       "            <td>1155838.0</td>\n",
       "            <td>1873050.0</td>\n",
       "            <td>2004</td>\n",
       "            <td>41.8074405</td>\n",
       "            <td>-87.70395585</td>\n",
       "            <td>(41.8074405, -87.703955849)</td>\n",
       "        </tr>\n",
       "        <tr>\n",
       "            <td>3406613</td>\n",
       "            <td>HK456306</td>\n",
       "            <td>2004-06-26</td>\n",
       "            <td>009XX N CENTRAL PARK AVE</td>\n",
       "            <td>820</td>\n",
       "            <td>THEFT</td>\n",
       "            <td>$500 AND UNDER</td>\n",
       "            <td>OTHER</td>\n",
       "            <td>0</td>\n",
       "            <td>0</td>\n",
       "            <td>1112</td>\n",
       "            <td>11</td>\n",
       "            <td>27.0</td>\n",
       "            <td>23.0</td>\n",
       "            <td>6</td>\n",
       "            <td>1152206.0</td>\n",
       "            <td>1906127.0</td>\n",
       "            <td>2004</td>\n",
       "            <td>41.89827996</td>\n",
       "            <td>-87.71640551</td>\n",
       "            <td>(41.898279962, -87.716405505)</td>\n",
       "        </tr>\n",
       "        <tr>\n",
       "            <td>8002131</td>\n",
       "            <td>HT233595</td>\n",
       "            <td>2011-04-04</td>\n",
       "            <td>043XX S WABASH AVE</td>\n",
       "            <td>820</td>\n",
       "            <td>THEFT</td>\n",
       "            <td>$500 AND UNDER</td>\n",
       "            <td>NURSING HOME/RETIREMENT HOME</td>\n",
       "            <td>0</td>\n",
       "            <td>0</td>\n",
       "            <td>221</td>\n",
       "            <td>2</td>\n",
       "            <td>3.0</td>\n",
       "            <td>38.0</td>\n",
       "            <td>6</td>\n",
       "            <td>1177436.0</td>\n",
       "            <td>1876313.0</td>\n",
       "            <td>2011</td>\n",
       "            <td>41.81593313</td>\n",
       "            <td>-87.62464213</td>\n",
       "            <td>(41.815933131, -87.624642127)</td>\n",
       "        </tr>\n",
       "        <tr>\n",
       "            <td>7903289</td>\n",
       "            <td>HT133522</td>\n",
       "            <td>2010-12-30</td>\n",
       "            <td>083XX S KINGSTON AVE</td>\n",
       "            <td>840</td>\n",
       "            <td>THEFT</td>\n",
       "            <td>FINANCIAL ID THEFT: OVER $300</td>\n",
       "            <td>RESIDENCE</td>\n",
       "            <td>0</td>\n",
       "            <td>0</td>\n",
       "            <td>423</td>\n",
       "            <td>4</td>\n",
       "            <td>7.0</td>\n",
       "            <td>46.0</td>\n",
       "            <td>6</td>\n",
       "            <td>1194622.0</td>\n",
       "            <td>1850125.0</td>\n",
       "            <td>2010</td>\n",
       "            <td>41.74366532</td>\n",
       "            <td>-87.56246276</td>\n",
       "            <td>(41.743665322, -87.562462756)</td>\n",
       "        </tr>\n",
       "        <tr>\n",
       "            <td>10402076</td>\n",
       "            <td>HZ138551</td>\n",
       "            <td>2016-02-02</td>\n",
       "            <td>033XX W 66TH ST</td>\n",
       "            <td>820</td>\n",
       "            <td>THEFT</td>\n",
       "            <td>$500 AND UNDER</td>\n",
       "            <td>ALLEY</td>\n",
       "            <td>0</td>\n",
       "            <td>0</td>\n",
       "            <td>831</td>\n",
       "            <td>8</td>\n",
       "            <td>15.0</td>\n",
       "            <td>66.0</td>\n",
       "            <td>6</td>\n",
       "            <td>1155240.0</td>\n",
       "            <td>1860661.0</td>\n",
       "            <td>2016</td>\n",
       "            <td>41.7734553</td>\n",
       "            <td>-87.70648047</td>\n",
       "            <td>(41.773455295, -87.706480471)</td>\n",
       "        </tr>\n",
       "    </tbody>\n",
       "</table>"
      ],
      "text/plain": [
       "[(3512276, 'HK587712', '2004-08-28', '047XX S KEDZIE AVE', '890', 'THEFT', 'FROM BUILDING', 'SMALL RETAIL STORE', 0, 0, 911, 9, 14.0, 58.0, '6', 1155838.0, 1873050.0, 2004, 41.8074405, -87.70395585, '(41.8074405, -87.703955849)'),\n",
       " (3406613, 'HK456306', '2004-06-26', '009XX N CENTRAL PARK AVE', '820', 'THEFT', '$500 AND UNDER', 'OTHER', 0, 0, 1112, 11, 27.0, 23.0, '6', 1152206.0, 1906127.0, 2004, 41.89827996, -87.71640551, '(41.898279962, -87.716405505)'),\n",
       " (8002131, 'HT233595', '2011-04-04', '043XX S WABASH AVE', '820', 'THEFT', '$500 AND UNDER', 'NURSING HOME/RETIREMENT HOME', 0, 0, 221, 2, 3.0, 38.0, '6', 1177436.0, 1876313.0, 2011, 41.81593313, -87.62464213, '(41.815933131, -87.624642127)'),\n",
       " (7903289, 'HT133522', '2010-12-30', '083XX S KINGSTON AVE', '840', 'THEFT', 'FINANCIAL ID THEFT: OVER $300', 'RESIDENCE', 0, 0, 423, 4, 7.0, 46.0, '6', 1194622.0, 1850125.0, 2010, 41.74366532, -87.56246276, '(41.743665322, -87.562462756)'),\n",
       " (10402076, 'HZ138551', '2016-02-02', '033XX W 66TH ST', '820', 'THEFT', '$500 AND UNDER', 'ALLEY', 0, 0, 831, 8, 15.0, 66.0, '6', 1155240.0, 1860661.0, 2016, 41.7734553, -87.70648047, '(41.773455295, -87.706480471)')]"
      ]
     },
     "execution_count": 116,
     "metadata": {},
     "output_type": "execute_result"
    }
   ],
   "source": [
    "%sql SELECT * FROM CHICAGO_CRIME_DATA LIMIT 5;"
   ]
  },
  {
   "cell_type": "markdown",
   "metadata": {},
   "source": [
    "### Problem 10\n",
    "\n",
    "##### Use a sub-query to determine the Community Area Name with most number of crimes?\n"
   ]
  },
  {
   "cell_type": "code",
   "execution_count": 132,
   "metadata": {},
   "outputs": [
    {
     "name": "stdout",
     "output_type": "stream",
     "text": [
      " * sqlite:///FINALDB.db\n",
      "Done.\n"
     ]
    },
    {
     "data": {
      "text/html": [
       "<table>\n",
       "    <thead>\n",
       "        <tr>\n",
       "            <th>COMMUNITY_AREA_NAME</th>\n",
       "        </tr>\n",
       "    </thead>\n",
       "    <tbody>\n",
       "        <tr>\n",
       "            <td>Austin</td>\n",
       "        </tr>\n",
       "    </tbody>\n",
       "</table>"
      ],
      "text/plain": [
       "[('Austin',)]"
      ]
     },
     "execution_count": 132,
     "metadata": {},
     "output_type": "execute_result"
    }
   ],
   "source": [
    "%sql SELECT COMMUNITY_AREA_NAME FROM CENSUS_DATA WHERE COMMUNITY_AREA_NUMBER = (SELECT COMMUNITY_AREA_NUMBER FROM CHICAGO_CRIME_DATA GROUP BY COMMUNITY_AREA_NUMBER ORDER BY COUNT(CASE_NUMBER) DESC LIMIT 1);\n"
   ]
  },
  {
   "cell_type": "markdown",
   "metadata": {},
   "source": [
    "## Author(s)\n",
    "\n",
    "<h4> Hima Vasudevan </h4>\n",
    "<h4> Rav Ahuja </h4>\n",
    "<h4> Ramesh Sannreddy </h4>\n",
    "\n",
    "## Contribtuor(s)\n",
    "\n",
    "<h4> Malika Singla </h4>\n",
    "<h4>Abhishek Gagneja</h4>\n",
    "\n",
    "## Change log\n",
    "\n",
    "| Date       | Version | Changed by        | Change Description                             |\n",
    "| ---------- | ------- | ----------------- | ---------------------------------------------- |\n",
    "|2023-10-18  | 2.6     | Abhishek Gagneja  | Modified instruction set |\n",
    "| 2022-03-04 | 2.5     | Lakshmi Holla     | Changed markdown.                   |\n",
    "| 2021-05-19 | 2.4     | Lakshmi Holla     | Updated the question                           |\n",
    "| 2021-04-30 | 2.3     | Malika Singla     | Updated the libraries                          |\n",
    "| 2021-01-15 | 2.2     | Rav Ahuja         | Removed problem 11 and fixed changelog         |\n",
    "| 2020-11-25 | 2.1     | Ramesh Sannareddy | Updated the problem statements, and datasets   |\n",
    "| 2020-09-05 | 2.0     | Malika Singla     | Moved lab to course repo in GitLab             |\n",
    "| 2018-07-18 | 1.0     | Rav Ahuja         | Several updates including loading instructions |\n",
    "| 2018-05-04 | 0.1     | Hima Vasudevan    | Created initial version                        |\n",
    "\n",
    "## <h3 align=\"center\"> © IBM Corporation 2023. All rights reserved. <h3/>\n"
   ]
  }
 ],
 "metadata": {
  "kernelspec": {
   "display_name": "Python 3 (ipykernel)",
   "language": "python",
   "name": "python3"
  },
  "language_info": {
   "codemirror_mode": {
    "name": "ipython",
    "version": 3
   },
   "file_extension": ".py",
   "mimetype": "text/x-python",
   "name": "python",
   "nbconvert_exporter": "python",
   "pygments_lexer": "ipython3",
   "version": "3.12.4"
  }
 },
 "nbformat": 4,
 "nbformat_minor": 4
}
